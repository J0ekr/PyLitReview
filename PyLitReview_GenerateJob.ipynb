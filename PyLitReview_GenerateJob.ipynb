{
 "cells": [
  {
   "cell_type": "code",
   "execution_count": null,
   "id": "subtle-wrapping",
   "metadata": {},
   "outputs": [],
   "source": [
    "import pandas as pd\n",
    "import itertools\n",
    "import time\n",
    "import os\n",
    "\n",
    "os.makedirs('./jobs/', exist_ok=True)"
   ]
  },
  {
   "cell_type": "code",
   "execution_count": null,
   "id": "convertible-resident",
   "metadata": {},
   "outputs": [],
   "source": [
    "yearStart = 2021 # Set to earliest year which should be crawled\n",
    "yearEnd = 2024 # Set to latest year whichh should be crawled\n",
    "\n",
    "# Search Keyword combinations\n",
    "listKeywords1 = ['Your', 'Key', 'Words']\n",
    "\n",
    "listKeywords2 =  ['Your', 'Key', 'Words']"
   ]
  },
  {
   "cell_type": "code",
   "execution_count": null,
   "id": "specific-advocate",
   "metadata": {},
   "outputs": [],
   "source": [
    "lstKeywords = list(itertools.product(listKeywords1, listKeywords2))  \n",
    "\n",
    "# Keywords should be a list of lists of strings. \n",
    "# The strings will be connected with AND for the search query.\n",
    "lstKeywords = [list(item) for item in lstKeywords]\n",
    "\n",
    "\n",
    "lst = []\n",
    "for l in [\"IEEE\", \"ACM\"]:\n",
    "    for k1, k2 in lstKeywords:\n",
    "        lst.append([l, k1, k2, yearStart, yearEnd, \"TitleAbstract\"])\n",
    "        \n",
    "df = pd.DataFrame(lst, columns=[\"Library\", \"Key1\", \"Key2\", \"YearStart\", \"YearEnd\", \"SearchWhere\"])\n",
    "df[\"Done\"] = \"\"\n",
    "df[\"Url\"] = \"\"\n",
    "df.to_csv(f\"./jobs/job_{int(time.time())}.csv\", index=False)"
   ]
  }
 ],
 "metadata": {
  "kernelspec": {
   "display_name": "Python 3 (ipykernel)",
   "language": "python",
   "name": "python3"
  },
  "language_info": {
   "codemirror_mode": {
    "name": "ipython",
    "version": 3
   },
   "file_extension": ".py",
   "mimetype": "text/x-python",
   "name": "python",
   "nbconvert_exporter": "python",
   "pygments_lexer": "ipython3",
   "version": "3.9.19"
  }
 },
 "nbformat": 4,
 "nbformat_minor": 5
}
