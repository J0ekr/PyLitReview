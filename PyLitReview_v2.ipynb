{
 "cells": [
  {
   "cell_type": "markdown",
   "metadata": {},
   "source": [
    "# Requirements:\n",
    "* https://selenium-python.readthedocs.io/locating-elements.html\n",
    "* https://sites.google.com/a/chromium.org/chromedriver/downloads"
   ]
  },
  {
   "cell_type": "code",
   "execution_count": 12,
   "metadata": {},
   "outputs": [],
   "source": [
    "from urllib.request import urlopen, Request\n",
    "# from bs4 import BeautifulSoup\n",
    "\n",
    "import pandas as pd\n",
    "import numpy as np\n",
    "\n",
    "from html.parser import HTMLParser\n",
    "import json\n",
    "import requests\n",
    "import sqlite3\n",
    "import tqdm\n",
    "import math\n",
    "\n",
    "\n",
    "from selenium import webdriver\n",
    "from selenium.webdriver.common.keys import Keys\n",
    "from selenium.webdriver.support.ui import WebDriverWait\n",
    "from selenium.webdriver.support import expected_conditions as EC\n",
    "from selenium.common.exceptions import TimeoutException\n",
    "from selenium.webdriver.common.by import By\n",
    "from selenium.common.exceptions import NoSuchElementException, ElementNotInteractableException\n",
    "\n",
    "from pybtex.database.input import bibtex\n",
    "from pybtex.database import parse_string\n",
    "import pybtex.errors\n",
    "pybtex.errors.set_strict_mode(False)\n",
    "\n",
    "import glob\n",
    "\n",
    "import itertools\n",
    "from itertools import permutations \n",
    "\n",
    "import os\n",
    "import time\n",
    "import config\n",
    "import BibFilesMerge as bfm"
   ]
  },
  {
   "cell_type": "code",
   "execution_count": 4,
   "metadata": {},
   "outputs": [],
   "source": [
    "# Needed for IEEE\n",
    "UNI_MAIL = config.UNI_MAIL\n",
    "UNI_PWD = config.UNI_PWD\n",
    "UNI_USER = config.UNI_USER\n",
    "# Needed for ScienceDirect\n",
    "ScienceDirect_MAIL = config.ScienceDirect_MAIL\n",
    "ScienceDirect_PWD = config.ScienceDirect_PWD\n",
    "\n",
    "IEEE_bib_files = []\n",
    "\n",
    "# \n",
    "ieee_maxpage = math.inf\n",
    "acm_maxpage = 39\n",
    "sd_maxpage = 19\n",
    "\n",
    "GLOBAL_ERROR_LIST = []\n",
    "urls = []"
   ]
  },
  {
   "cell_type": "markdown",
   "metadata": {},
   "source": [
    "# Settings for crawling"
   ]
  },
  {
   "cell_type": "code",
   "execution_count": 6,
   "metadata": {},
   "outputs": [],
   "source": [
    "fullsearch = False # Search keywords everywhere\n",
    "titlesearch = True # Search keywords in title\n",
    "abstractsearch = True # Search keywords in abstract\n",
    "year_min = 1900 # Set to earliest year which should be crawled\n",
    "year_max = 2022 # Set to latest year whichh should be crawled\n",
    "\n",
    "LIBS = [\"ScienceDirect\", \"ACM\", \"IEEE\"]\n",
    "\n",
    "# Search Keyword combinations\n",
    "pres = [\n",
    "    'pointing','selection',  'mid-air pointing', 'target-selection', 'target selection', 'gesture'\n",
    "        ]\n",
    "sufs = ['virtual environment','virtual reality', 'vr', 'large screen', 'large display', 'augmented reality'\n",
    "        ]\n",
    "keywords = list(itertools.product(pres, sufs))\n",
    "# Keywords should be a list of lists of strings. \n",
    "# The strings will be connected with AND for the search query.\n",
    "keywords = [list(item) for item in keywords]\n",
    "\n"
   ]
  },
  {
   "cell_type": "markdown",
   "metadata": {},
   "source": [
    "# Setup for crawler\n",
    "## function to crawl: crawl(keywords, LIBRARY, titlesearch)"
   ]
  },
  {
   "cell_type": "code",
   "execution_count": 7,
   "metadata": {},
   "outputs": [],
   "source": [
    "# Change paths for dl-folders (dl) to folders for each library [line 9,11,13]\n",
    "def setupCrawler(dl_folder):\n",
    "    options = webdriver.ChromeOptions()\n",
    "    options.add_argument('headless')\n",
    "    options.add_argument('window-size=1920x1080')\n",
    "    options.add_argument(\"disable-gpu\")\n",
    "    dl = \"C:\\\\Users\\\\Jan\\\\Documents\\\\GitHub\\\\MA-Thesis\\\\PyLitReview\"\n",
    "    if dl_folder == \"acm\":\n",
    "        dl = config.downloadfolder_acm\n",
    "    elif dl_folder == \"ieee\":\n",
    "        dl = config.downloadfolder_ieee\n",
    "    elif dl_folder == \"sd\":\n",
    "        dl = config.downloadfolder_sd\n",
    "    p = {\"download.default_directory\": dl}\n",
    "    options.add_experimental_option(\"prefs\", p)\n",
    "    driver = webdriver.Chrome(executable_path = \"./chromedriver.exe\",   chrome_options=options)\n",
    "    print(\"Driver setup complete.\")\n",
    "    return driver\n",
    "# Method to crawl one single library: Keywords: [], library: String, title: bool, dl_folder: string\n",
    "def crawl(keywords_list, library, titleOnly):\n",
    "    print(f\"Start crawling {library}\")\n",
    "    if library == \"ACM\":\n",
    "        keywords = [[item.replace(\" \", \"+\") for item in keywords] for keywords in keywords_list]\n",
    "        saveACMBib(keywords, \"acm\", titleOnly)\n",
    "    elif library == \"IEEE\":\n",
    "        keywords = [[item.replace(\" \", \"%20\") for item in keywords] for keywords in keywords_list]\n",
    "        saveIEEEBib(keywords, \"ieee\", titleOnly)\n",
    "    elif library == \"ScienceDirect\":\n",
    "        keywords = [[item.replace(\" \", \"%20\") for item in keywords] for keywords in keywords_list]\n",
    "        saveScienceDirectBib(keywords, \"sd\", titleOnly)\n",
    "    else:\n",
    "        print(f\"Library {library} not yet supported\")\n",
    "def getURL(keywords, library, titleOnly, concatentation=\"AND\"):\n",
    "    URL = \"\"\n",
    "    search = \"\"\n",
    "    if library == \"ACM\":\n",
    "        titleSearch = \"doSearch?AllField=\"\n",
    "        for i, keyword in enumerate(keywords):\n",
    "            search += f\"%22{keyword}%22\"\n",
    "            if (i < len(keywords)-1):\n",
    "                search += f\"+{concatentation}+\"\n",
    "        if titleOnly == True:\n",
    "            titleSearch = \"doSearch?fillQuickSearch=false&expand=dl&field1=Title&text1=\"\n",
    "        URL = f\"https://dl.acm.org/action/{titleSearch}{search}&pageSize=50&AfterYear={year_min}&BeforeYear={year_max}&startPage=\"\n",
    "        return URL\n",
    "    elif library == \"IEEE\":\n",
    "        titleSearch = \"doSearch?AllField=\"\n",
    "        for i, keyword in enumerate(keywords):\n",
    "            if titleOnly == True:\n",
    "                key = f'(\"Document%20Title\":\"{keyword}\")'\n",
    "            else:\n",
    "                key = f\"%22{keyword}%22\"\n",
    "            search += key\n",
    "            if (i < len(keywords)-1):\n",
    "                search += f\"+{concatentation}+\" \n",
    "        URL = f\"https://ieeexplore.ieee.org/search/searchresult.jsp?&queryText={search}&highlight=true&returnFacets=ALL&returnType=SEARCH&matchPubs=true&ranges={year_min}_{year_max}_Year&rowsPerPage=50&pageNumber=\"\n",
    "        return URL\n",
    "    elif library == \"ScienceDirect\":\n",
    "        titleSearch = \"&tak=\"\n",
    "        if titleOnly == True:\n",
    "            titleSearch = \"?title=\"\n",
    "        for i, keyword in enumerate(keywords):\n",
    "            search += f\"%22{keyword}%22\"\n",
    "            if (i < len(keywords)-1):\n",
    "                search += f\"%20{concatentation}%20\" \n",
    "        URL = f\"https://www.sciencedirect.com/search?date={year_min}-{year_max}{titleSearch}{search}&show=50&offset=\"\n",
    "        print(URL)\n",
    "        return URL\n",
    "    else:\n",
    "        print(f\"Library {library} not yet supported\")\n",
    "    return URL"
   ]
  },
  {
   "cell_type": "markdown",
   "metadata": {},
   "source": [
    "# IEEE "
   ]
  },
  {
   "cell_type": "code",
   "execution_count": 8,
   "metadata": {},
   "outputs": [],
   "source": [
    "def loadIEEEBib (toOpen, driver):\n",
    "    driver.get(toOpen)\n",
    "    time.sleep(25)\n",
    "    driver.find_element_by_class_name(\"main-section\").find_elements_by_xpath(\".//*\")[5].click() #Click SELECT ALL\n",
    "    time.sleep(5)\n",
    "    # for en, child in enumerate(driver.find_element_by_class_name(\"ng-Dashboard\").find_elements_by_xpath(\".//*\")[:21]):\n",
    "    #     print(\"ng-Dashboard\", en, child.text)\n",
    "    export = driver.find_element_by_class_name(\"ng-Dashboard\").find_elements_by_xpath(\".//*\")[10] # Find EXPORT\n",
    "    if \"Export\" not in export.text:\n",
    "        export = driver.find_element_by_class_name(\"ng-Dashboard\").find_elements_by_xpath(\".//*\")[20] # Find EXPORT\n",
    "    export.click()\n",
    "    time.sleep(5)\n",
    "    driver.find_element_by_class_name(\"tooltip-inner\").find_elements_by_xpath(\".//*\")[4].click() # CLick Citations\n",
    "    time.sleep(5)\n",
    "    # for en, child in enumerate(driver.find_element_by_class_name(\"tooltip-inner\").find_elements_by_xpath(\".//*\")):\n",
    "    #     print(\"tooltip-inner\", en, child.text)\n",
    "    driver.find_element_by_class_name(\"tooltip-inner\").find_elements_by_xpath(\".//*\")[25].click() # Click BibTex\n",
    "    time.sleep(5)\n",
    "    driver.find_element_by_class_name(\"tooltip-inner\").find_elements_by_xpath(\".//*\")[40].click()# Click Citations & Abstract \n",
    "    time.sleep(5)\n",
    "    elem = driver.find_element_by_class_name(\"tooltip-inner\").find_elements_by_xpath(\".//*\")[44] #Click Export\n",
    "    print(\"Text:\",elem.text)\n",
    "    driver.save_screenshot(\"ieee_dl.png\")\n",
    "    # window_after = driver.window_handles[1]\n",
    "    # driver.switch_to.window(window_after)\n",
    "    # driver.find_element_by_tag_name('body').send_keys(Keys.CONTROL + Keys.TAB)\n",
    "    \n",
    "\n",
    "    curWindowHndl = driver.current_window_handle\n",
    "    assert len(driver.window_handles) == 1\n",
    "    elem.send_keys(Keys.CONTROL + Keys.ENTER) #open link in new tab keyboard shortcut\n",
    "    time.sleep(10)\n",
    "    # Wait for the new window or tab\n",
    "    # wait.until(EC.number_of_windows_to_be(2))\n",
    "    for window_handle in driver.window_handles:\n",
    "        if window_handle != curWindowHndl:\n",
    "            driver.switch_to.window(window_handle)\n",
    "            break\n",
    "    \n",
    "    time.sleep(10) #wait until new tab finishes loading\n",
    "    # driver.switch_to.window(driver.window_handles[1])\n",
    "    # driver.switch_to_window(driver.window_handles[1]) #assuming new tab is at index 1\n",
    "    \n",
    "    bib = driver.find_element_by_xpath(\"/html/body\").text\n",
    "    driver.close() #closes new tab\n",
    "    driver.switch_to.window(curWindowHndl)\n",
    "    time.sleep(20)\n",
    "    return bib\n",
    "\n",
    "def saveIEEEBib(keywords_list, dl_folder, titleOnly):\n",
    "    driver = setupCrawler(dl_folder)\n",
    "    bib_datas = []\n",
    "    glob_bib = \"\"\n",
    "    for keywords in keywords_list:\n",
    "        print(f\"Search for: {keywords}\")\n",
    "        IEEE_URL = getURL(keywords, \"IEEE\", titleOnly)\n",
    "        driver.get(IEEE_URL)#put here the adress of your page\n",
    "        \n",
    "        print(IEEE_URL)\n",
    "        time.sleep(7)\n",
    "        name = \"\"\n",
    "        for word in keywords:\n",
    "            name += f\"{word}\"\n",
    "        if titleOnly:\n",
    "            name += \"_Title\"\n",
    "        driver.save_screenshot(f\"IEEE_{name}.png\")\n",
    "        try:\n",
    "            # for en, child in enumerate(driver.find_element_by_class_name(\"ng-Dashboard\").find_elements_by_xpath(\".//*\")):\n",
    "            #     print(en, child.text)\n",
    "            results = driver.find_element_by_class_name(\"ng-Dashboard\").find_elements_by_xpath(\".//*\")[31]\n",
    "            if results.text == \"Set Search Alerts\":\n",
    "                results = driver.find_element_by_class_name(\"ng-Dashboard\").find_elements_by_xpath(\".//*\")[41]\n",
    "            results = results.text.split(\" \")[0].split(\"-\")[-1]\n",
    "            if \",\" in results:\n",
    "                results = results.replace(\",\", \"\")\n",
    "        except NoSuchElementException:\n",
    "            results = 0\n",
    "        except IndexError:\n",
    "            results = 0\n",
    "        if results == \"\":\n",
    "            results = 0\n",
    "        \n",
    "        results = int(results)\n",
    "        r = int(np.min([math.ceil(results / 50), ieee_maxpage]))\n",
    "        # Loop through all pages and save resulting bib files\n",
    "\n",
    "        for i in tqdm.tqdm(range(r)):\n",
    "            toOpen = IEEE_URL + str(i+1)\n",
    "            bib = loadIEEEBib(toOpen, driver)\n",
    "            try: \n",
    "                print(\"trying to save bib file\")\n",
    "                bib_data = parse_string(bib, \"bibtex\")\n",
    "                bib_data.to_file(f\"./PostReview/ieee/ieee_{name}_page{i}.bib\")\n",
    "            except:\n",
    "                print(f\"Something went wrong with: {name}_{i}\") \n",
    "                IEEE_bib_files.append(bib)  \n",
    "                urls.append(toOpen)\n",
    "            time.sleep(3)"
   ]
  },
  {
   "cell_type": "markdown",
   "metadata": {},
   "source": [
    "# ACM"
   ]
  },
  {
   "cell_type": "code",
   "execution_count": 9,
   "metadata": {},
   "outputs": [],
   "source": [
    "def loadACMBib (toOpen, driver):\n",
    "    driver.get(toOpen)#put here the adress of your page\n",
    "    delay = 3 # seconds\n",
    "    driver.find_element_by_class_name(\"item-results__checkbox\").click()\n",
    "    time.sleep(5)\n",
    "    driver.find_element_by_class_name(\"item-results__buttons.visible\").find_elements_by_xpath(\".//*\")[0].click()\n",
    "    time.sleep(20)\n",
    "    driver.find_element_by_class_name(\"rlist--inline.separator\").find_elements_by_xpath(\".//*\")[1].click()\n",
    "    time.sleep(20)\n",
    "def saveACMBib(keywords_list, dl_folder, titleOnly):\n",
    "    driver = setupCrawler(dl_folder)\n",
    "    for keywords in keywords_list:\n",
    "        print(f\"Search for: {keywords}\")\n",
    "        ACM_URL = getURL(keywords, \"ACM\", titleOnly)\n",
    "        driver.get(ACM_URL)#put here the adress of your page\n",
    "        time.sleep(3)\n",
    "        name = \"\"\n",
    "        for word in keywords:\n",
    "            name += f\"{word}\"\n",
    "        if titleOnly:\n",
    "            name += \"_TitleOnly\"\n",
    "        driver.save_screenshot(f\"./acmpost_{name}.jpg\")\n",
    "        # get amount of results for for-loop\n",
    "        try:\n",
    "            results = driver.find_element_by_class_name(\"result__count\")\n",
    "            results = results.text.split(\" \")[0]\n",
    "            if \",\" in results:\n",
    "                results = results.replace(\",\", \"\")\n",
    "            results = int(results)\n",
    "        except NoSuchElementException:\n",
    "            results = 0\n",
    "        r = np.min([math.ceil(results / 50), acm_maxpage])\n",
    "        # Loop through all pages and save resulting bib files\n",
    "        for i in tqdm.tqdm(range(r)):\n",
    "            toOpen = ACM_URL + str(i)\n",
    "            driver = setupCrawler(dl_folder)\n",
    "            loadACMBib(toOpen, driver)\n",
    "            try:\n",
    "                os.rename('PostReview/acm/acm.bib', f'PostReview/acm/acm_{name}_page{i}.bib')\n",
    "            except FileNotFoundError:\n",
    "                print(\"Only 1 bib entry in that file.\")\n"
   ]
  },
  {
   "cell_type": "markdown",
   "metadata": {},
   "source": [
    "# ScienceDirect"
   ]
  },
  {
   "cell_type": "code",
   "execution_count": 10,
   "metadata": {},
   "outputs": [],
   "source": [
    "def loginScienceDirect(driver):\n",
    "    # Login_URL = \"https://www.sciencedirect.com/\"\n",
    "    # driver.get(Login_URL)\n",
    "    mail = driver.find_element_by_id(\"bdd-email\")\n",
    "    mail.send_keys(UNI_MAIL)\n",
    "    time.sleep(1)\n",
    "    mail.send_keys(Keys.ENTER)\n",
    "    time.sleep(1)\n",
    "    driver.save_screenshot(\"login.jpg\")\n",
    "    time.sleep(1)\n",
    "    driver.find_element_by_id(\"bdd-elsPrimaryBtn\").click()\n",
    "    time.sleep(1)\n",
    "    driver.find_element_by_id(\"username\").send_keys(UNI_USER)\n",
    "    time.sleep(1)\n",
    "    pwd = driver.find_element_by_id(\"password\")\n",
    "    pwd.send_keys(UNI_PWD)\n",
    "    time.sleep(1)\n",
    "    pwd.send_keys(Keys.ENTER)\n",
    "    time.sleep(2)\n",
    "    attemps = 0\n",
    "    try:\n",
    "        driver.find_element_by_id(\"institution-button\").click()\n",
    "    except StaleElementReferenceException:\n",
    "        print(\"intitution button apparently no accessable\")\n",
    "        driver.save_screenshot(\"StaleElement.png\")\n",
    "        driver.find_element_by_id(\"institution-button\").click()\n",
    "    time.sleep(2)\n",
    "    # mail = driver.find_element_by_id(\"bdd-email\")\n",
    "    # mail.send_keys(ScienceDirect_MAIL)\n",
    "    # mail.send_keys(Keys.ENTER)\n",
    "    # pwd = driver.find_element_by_id(\"bdd-password\")\n",
    "    # pwd.send_keys(ScienceDirect_PWD)\n",
    "    # pwd.send_keys(Keys.ENTER)\n",
    "    # time.sleep(1)\n",
    "    # driver.find_element_by_id(\"institution-button\").click()\n",
    "    # pwd = driver.find_element_by_id(\"bdd-password\")\n",
    "    # pwd.send_keys(ScienceDirect_PWD)\n",
    "    # pwd.send_keys(Keys.ENTER)\n",
    "def loadScienceDirectBib(toOpen, driver):\n",
    "    driver.get(toOpen)\n",
    "    time.sleep(5)\n",
    "    try:\n",
    "        loginScienceDirect(driver)\n",
    "    except NoSuchElementException:\n",
    "        print(\"Already logged in or wrong credentials\") \n",
    "    driver.save_screenshot(\"sciencedirect.png\")\n",
    "    driver.find_element_by_class_name(\"checkbox-check.partial.checkbox-small\").click()\n",
    "    time.sleep(1)\n",
    "    driver.find_element_by_class_name(\"button-link.export-all-link-button.button-link-primary\").click()\n",
    "    time.sleep(5)\n",
    "    driver.find_elements_by_class_name(\"button-link.button-link-primary.export-option.u-display-block\")[2].click()\n",
    "    time.sleep(10)\n",
    "def saveScienceDirectBib(keywords_list, dl_folder, titleOnly):\n",
    "    driver = setupCrawler(dl_folder)\n",
    "    SD_URL = getURL(keywords_list[0], \"ScienceDirect\", titleOnly)\n",
    "    driver.get('https://www.sciencedirect.com/')\n",
    "    driver.save_screenshot(\"SD.png\")\n",
    "    try:\n",
    "        loginScienceDirect(driver)\n",
    "    except NoSuchElementException:\n",
    "        print(\"Already logged in or wrong credentials\") \n",
    "    # loginScienceDirect(driver)\n",
    "    driver.save_screenshot(f\"{SD_URL}.png\")\n",
    "    for keywords in keywords_list:\n",
    "        print(f\"Search for: {keywords}\")\n",
    "        SD_URL = getURL(keywords, \"ScienceDirect\", titleOnly)\n",
    "        driver.get(SD_URL)#put here the adress of your page\n",
    "        time.sleep(3)\n",
    "        try:\n",
    "            results = driver.find_element_by_class_name(\"search-body-results-text\")\n",
    "            results = results.text.split(\" \")[0]\n",
    "            if \",\" in results:\n",
    "                results = results.replace(\",\", \"\")\n",
    "            results = int(results)\n",
    "        except NoSuchElementException:\n",
    "            results = 0\n",
    "        \n",
    "        r = np.min([math.ceil(results / 50), sd_maxpage])\n",
    "        for i in tqdm.tqdm(range(r)):\n",
    "            driver = setupCrawler(dl_folder)\n",
    "            toOpen = SD_URL + str(i*50)\n",
    "            loadScienceDirectBib(toOpen, driver)"
   ]
  },
  {
   "cell_type": "code",
   "execution_count": 13,
   "metadata": {},
   "outputs": [
    {
     "name": "stderr",
     "output_type": "stream",
     "text": [
      "<ipython-input-7-a81cf1bff846>:16: DeprecationWarning: use options instead of chrome_options\n",
      "  driver = webdriver.Chrome(executable_path = \"./chromedriver.exe\",   chrome_options=options)\n"
     ]
    },
    {
     "name": "stdout",
     "output_type": "stream",
     "text": [
      "https://www.sciencedirect.com/search?date=2021?title=%22pointing%22%20AND%20%22virtual%20environment%22&show=50&offset=\n",
      "Already logged in or wrong credentials\n",
      "Search for: ['pointing', 'virtual%20environment']\n",
      "https://www.sciencedirect.com/search?date=2021?title=%22pointing%22%20AND%20%22virtual%20environment%22&show=50&offset=\n"
     ]
    },
    {
     "name": "stderr",
     "output_type": "stream",
     "text": [
      "0it [00:00, ?it/s]\n"
     ]
    },
    {
     "name": "stdout",
     "output_type": "stream",
     "text": [
      "Search for: ['pointing', 'virtual%20reality']\n",
      "https://www.sciencedirect.com/search?date=2021?title=%22pointing%22%20AND%20%22virtual%20reality%22&show=50&offset=\n"
     ]
    },
    {
     "name": "stderr",
     "output_type": "stream",
     "text": [
      "0it [00:00, ?it/s]\n"
     ]
    },
    {
     "name": "stdout",
     "output_type": "stream",
     "text": [
      "Search for: ['pointing', 'vr']\n",
      "https://www.sciencedirect.com/search?date=2021?title=%22pointing%22%20AND%20%22vr%22&show=50&offset=\n"
     ]
    },
    {
     "name": "stderr",
     "output_type": "stream",
     "text": [
      "0it [00:00, ?it/s]\n"
     ]
    },
    {
     "name": "stdout",
     "output_type": "stream",
     "text": [
      "Search for: ['pointing', 'large%20screen']\n",
      "https://www.sciencedirect.com/search?date=2021?title=%22pointing%22%20AND%20%22large%20screen%22&show=50&offset=\n"
     ]
    },
    {
     "name": "stderr",
     "output_type": "stream",
     "text": [
      "0it [00:00, ?it/s]\n"
     ]
    },
    {
     "name": "stdout",
     "output_type": "stream",
     "text": [
      "Search for: ['pointing', 'large%20display']\n",
      "https://www.sciencedirect.com/search?date=2021?title=%22pointing%22%20AND%20%22large%20display%22&show=50&offset=\n"
     ]
    },
    {
     "name": "stderr",
     "output_type": "stream",
     "text": [
      "0it [00:00, ?it/s]\n"
     ]
    },
    {
     "name": "stdout",
     "output_type": "stream",
     "text": [
      "Search for: ['pointing', 'augmented%20reality']\n",
      "https://www.sciencedirect.com/search?date=2021?title=%22pointing%22%20AND%20%22augmented%20reality%22&show=50&offset=\n"
     ]
    },
    {
     "name": "stderr",
     "output_type": "stream",
     "text": [
      "0it [00:00, ?it/s]\n"
     ]
    },
    {
     "name": "stdout",
     "output_type": "stream",
     "text": [
      "Search for: ['selection', 'virtual%20environment']\n",
      "https://www.sciencedirect.com/search?date=2021?title=%22selection%22%20AND%20%22virtual%20environment%22&show=50&offset=\n"
     ]
    },
    {
     "name": "stderr",
     "output_type": "stream",
     "text": [
      "0it [00:00, ?it/s]\n"
     ]
    },
    {
     "name": "stdout",
     "output_type": "stream",
     "text": [
      "Search for: ['selection', 'virtual%20reality']\n",
      "https://www.sciencedirect.com/search?date=2021?title=%22selection%22%20AND%20%22virtual%20reality%22&show=50&offset=\n"
     ]
    },
    {
     "name": "stderr",
     "output_type": "stream",
     "text": [
      "0it [00:00, ?it/s]\n"
     ]
    },
    {
     "name": "stdout",
     "output_type": "stream",
     "text": [
      "Search for: ['selection', 'vr']\n",
      "https://www.sciencedirect.com/search?date=2021?title=%22selection%22%20AND%20%22vr%22&show=50&offset=\n"
     ]
    },
    {
     "ename": "KeyboardInterrupt",
     "evalue": "",
     "output_type": "error",
     "traceback": [
      "\u001b[1;31m---------------------------------------------------------------------------\u001b[0m",
      "\u001b[1;31mKeyboardInterrupt\u001b[0m                         Traceback (most recent call last)",
      "\u001b[1;32m<ipython-input-13-a2a97b481f0d>\u001b[0m in \u001b[0;36m<module>\u001b[1;34m\u001b[0m\n\u001b[1;32m----> 1\u001b[1;33m \u001b[0mcrawl\u001b[0m\u001b[1;33m(\u001b[0m\u001b[0mkeywords\u001b[0m\u001b[1;33m,\u001b[0m \u001b[1;34m\"ScienceDirect\"\u001b[0m\u001b[1;33m,\u001b[0m \u001b[1;32mTrue\u001b[0m\u001b[1;33m)\u001b[0m\u001b[1;33m\u001b[0m\u001b[1;33m\u001b[0m\u001b[0m\n\u001b[0m",
      "\u001b[1;32m<ipython-input-7-a81cf1bff846>\u001b[0m in \u001b[0;36mcrawl\u001b[1;34m(keywords_list, library, titleOnly)\u001b[0m\n\u001b[0;32m     26\u001b[0m     \u001b[1;32melif\u001b[0m \u001b[0mlibrary\u001b[0m \u001b[1;33m==\u001b[0m \u001b[1;34m\"ScienceDirect\"\u001b[0m\u001b[1;33m:\u001b[0m\u001b[1;33m\u001b[0m\u001b[1;33m\u001b[0m\u001b[0m\n\u001b[0;32m     27\u001b[0m         \u001b[0mkeywords\u001b[0m \u001b[1;33m=\u001b[0m \u001b[1;33m[\u001b[0m\u001b[1;33m[\u001b[0m\u001b[0mitem\u001b[0m\u001b[1;33m.\u001b[0m\u001b[0mreplace\u001b[0m\u001b[1;33m(\u001b[0m\u001b[1;34m\" \"\u001b[0m\u001b[1;33m,\u001b[0m \u001b[1;34m\"%20\"\u001b[0m\u001b[1;33m)\u001b[0m \u001b[1;32mfor\u001b[0m \u001b[0mitem\u001b[0m \u001b[1;32min\u001b[0m \u001b[0mkeywords\u001b[0m\u001b[1;33m]\u001b[0m \u001b[1;32mfor\u001b[0m \u001b[0mkeywords\u001b[0m \u001b[1;32min\u001b[0m \u001b[0mkeywords_list\u001b[0m\u001b[1;33m]\u001b[0m\u001b[1;33m\u001b[0m\u001b[1;33m\u001b[0m\u001b[0m\n\u001b[1;32m---> 28\u001b[1;33m         \u001b[0msaveScienceDirectBib\u001b[0m\u001b[1;33m(\u001b[0m\u001b[0mkeywords\u001b[0m\u001b[1;33m,\u001b[0m \u001b[1;34m\"sd\"\u001b[0m\u001b[1;33m,\u001b[0m \u001b[0mtitleOnly\u001b[0m\u001b[1;33m)\u001b[0m\u001b[1;33m\u001b[0m\u001b[1;33m\u001b[0m\u001b[0m\n\u001b[0m\u001b[0;32m     29\u001b[0m     \u001b[1;32melse\u001b[0m\u001b[1;33m:\u001b[0m\u001b[1;33m\u001b[0m\u001b[1;33m\u001b[0m\u001b[0m\n\u001b[0;32m     30\u001b[0m         \u001b[0mprint\u001b[0m\u001b[1;33m(\u001b[0m\u001b[1;34mf\"Library {library} not yet supported\"\u001b[0m\u001b[1;33m)\u001b[0m\u001b[1;33m\u001b[0m\u001b[1;33m\u001b[0m\u001b[0m\n",
      "\u001b[1;32m<ipython-input-10-a263f349ada5>\u001b[0m in \u001b[0;36msaveScienceDirectBib\u001b[1;34m(keywords_list, dl_folder, titleOnly)\u001b[0m\n\u001b[0;32m     66\u001b[0m         \u001b[0mSD_URL\u001b[0m \u001b[1;33m=\u001b[0m \u001b[0mgetURL\u001b[0m\u001b[1;33m(\u001b[0m\u001b[0mkeywords\u001b[0m\u001b[1;33m,\u001b[0m \u001b[1;34m\"ScienceDirect\"\u001b[0m\u001b[1;33m,\u001b[0m \u001b[0mtitleOnly\u001b[0m\u001b[1;33m)\u001b[0m\u001b[1;33m\u001b[0m\u001b[1;33m\u001b[0m\u001b[0m\n\u001b[0;32m     67\u001b[0m         \u001b[0mdriver\u001b[0m\u001b[1;33m.\u001b[0m\u001b[0mget\u001b[0m\u001b[1;33m(\u001b[0m\u001b[0mSD_URL\u001b[0m\u001b[1;33m)\u001b[0m\u001b[1;31m#put here the adress of your page\u001b[0m\u001b[1;33m\u001b[0m\u001b[1;33m\u001b[0m\u001b[0m\n\u001b[1;32m---> 68\u001b[1;33m         \u001b[0mtime\u001b[0m\u001b[1;33m.\u001b[0m\u001b[0msleep\u001b[0m\u001b[1;33m(\u001b[0m\u001b[1;36m3\u001b[0m\u001b[1;33m)\u001b[0m\u001b[1;33m\u001b[0m\u001b[1;33m\u001b[0m\u001b[0m\n\u001b[0m\u001b[0;32m     69\u001b[0m         \u001b[1;32mtry\u001b[0m\u001b[1;33m:\u001b[0m\u001b[1;33m\u001b[0m\u001b[1;33m\u001b[0m\u001b[0m\n\u001b[0;32m     70\u001b[0m             \u001b[0mresults\u001b[0m \u001b[1;33m=\u001b[0m \u001b[0mdriver\u001b[0m\u001b[1;33m.\u001b[0m\u001b[0mfind_element_by_class_name\u001b[0m\u001b[1;33m(\u001b[0m\u001b[1;34m\"search-body-results-text\"\u001b[0m\u001b[1;33m)\u001b[0m\u001b[1;33m\u001b[0m\u001b[1;33m\u001b[0m\u001b[0m\n",
      "\u001b[1;31mKeyboardInterrupt\u001b[0m: "
     ]
    }
   ],
   "source": [
    "crawl(keywords, \"ScienceDirect\", True)"
   ]
  },
  {
   "cell_type": "code",
   "execution_count": null,
   "metadata": {},
   "outputs": [],
   "source": []
  }
 ],
 "metadata": {
  "interpreter": {
   "hash": "0a2479526784f8b7907c2b2d084778177d7b2692bc0b06c72559526097b891c7"
  },
  "kernelspec": {
   "display_name": "Python 3.8.2 32-bit",
   "language": "python",
   "name": "python3"
  },
  "language_info": {
   "codemirror_mode": {
    "name": "ipython",
    "version": 3
   },
   "file_extension": ".py",
   "mimetype": "text/x-python",
   "name": "python",
   "nbconvert_exporter": "python",
   "pygments_lexer": "ipython3",
   "version": "3.8.2"
  },
  "orig_nbformat": 4
 },
 "nbformat": 4,
 "nbformat_minor": 2
}
