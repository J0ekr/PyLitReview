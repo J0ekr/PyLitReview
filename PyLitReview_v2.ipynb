{
 "cells": [
  {
   "cell_type": "code",
   "execution_count": null,
   "id": "requested-treasure",
   "metadata": {},
   "outputs": [],
   "source": [
    "import tqdm\n",
    "import glob\n",
    "import pandas as pd\n",
    "\n",
    "import pylitreview\n",
    "\n",
    "from pylitreview import Library\n",
    "mapLibrary = {\"ACM\" : Library.ACM,\n",
    "              \"IEEE\" : Library.IEEE,\n",
    "              \"ScienceDirect\" : Library.ScienceDirect}\n",
    "\n",
    "from pylitreview import SearchWhere\n",
    "mapSearchWhere = {\"Title\" : SearchWhere.Title,\n",
    "                  \"Abstract\" : SearchWhere.Abstract,\n",
    "                  \"TitleAbstract\" : SearchWhere.TitleAbstract,\n",
    "                  \"Text\": SearchWhere.Text}\n",
    "\n",
    "outputFolderBib = \"./files/\""
   ]
  },
  {
   "cell_type": "code",
   "execution_count": null,
   "id": "temporal-combining",
   "metadata": {
    "scrolled": true
   },
   "outputs": [],
   "source": [
    "for fileJob in tqdm.tqdm(glob.glob(\"./jobs/*.csv\"), desc=\"Jobs\"):\n",
    "    dfJob = pd.read_csv(fileJob)\n",
    "    dfJob.Done = dfJob.Done.fillna(\"\")\n",
    "    lstSort = [\"Done\", \"Library\", \"Key1\", \"Key2\", \"YearStart\", \"YearEnd\", \"SearchWhere\"]\n",
    "    ascending = [False]\n",
    "    for x in range(len(lstSort)-1):\n",
    "        ascending.append(True)\n",
    "    dfJob = dfJob.sort_values(lstSort, ascending=ascending)\n",
    "    dfJob.Library = dfJob.Library.map(mapLibrary)\n",
    "    dfJob.SearchWhere = dfJob.SearchWhere.map(mapSearchWhere)\n",
    "    \n",
    "    for i, e in tqdm.tqdm(dfJob.iterrows(), total=len(dfJob), desc=\"Searches in job\"):\n",
    "        if e.Done != \"\":\n",
    "            None\n",
    "        else:\n",
    "            infos = e.to_dict()\n",
    "            keyword = []\n",
    "            for k in infos.keys():\n",
    "                if k.startswith('Key'):\n",
    "                    keyword.append(infos[k])\n",
    "\n",
    "            infos[\"Keyword\"] = keyword\n",
    "            success, url = pylitreview.crawl(infos, outputFolderBib)\n",
    "            dfJob.loc[i, \"Url\"] = url\n",
    "            if success:\n",
    "                dfJob.loc[i, \"Done\"] = \"Done\"\n",
    "                dfJobOut = dfJob.copy()\n",
    "                dfJobOut.Library = dfJobOut.Library.apply(lambda x: str(x).split(\".\")[-1])\n",
    "                dfJobOut.SearchWhere = dfJobOut.SearchWhere.apply(lambda x: str(x).split(\".\")[-1])\n",
    "                dfJobOut.to_csv(fileJob, index=False)"
   ]
  }
 ],
 "metadata": {
  "kernelspec": {
   "display_name": "Python 3 (ipykernel)",
   "language": "python",
   "name": "python3"
  },
  "language_info": {
   "codemirror_mode": {
    "name": "ipython",
    "version": 3
   },
   "file_extension": ".py",
   "mimetype": "text/x-python",
   "name": "python",
   "nbconvert_exporter": "python",
   "pygments_lexer": "ipython3",
   "version": "3.9.19"
  }
 },
 "nbformat": 4,
 "nbformat_minor": 5
}
