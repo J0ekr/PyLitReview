{
 "cells": [
  {
   "cell_type": "code",
   "execution_count": null,
   "metadata": {},
   "outputs": [],
   "source": [
    "import glob\n",
    "import BibFilesMerge as bfm"
   ]
  },
  {
   "cell_type": "code",
   "execution_count": null,
   "metadata": {},
   "outputs": [],
   "source": [
    "def getFileNames(bib_folder):\n",
    "    file_names = glob.glob(bib_folder+'*.bib') \n",
    "    file_names = [item.split(\"\\\\\")[1] for item in file_names]\n",
    "    return file_names\n",
    "\n",
    "def mergeFiles(bib_folder, name):\n",
    "    file_names = getFileNames(bib_folder)\n",
    "    \n",
    "    bfm.run(bib_folder, file_names, name, False)\n",
    "   \n",
    "mergeFiles(\"./files/\", \"../out.bib\")\n"
   ]
  }
 ],
 "metadata": {
  "interpreter": {
   "hash": "6532684ccaeb1bcbbe852b7f75c67e6f1d55df7d386020fd37670376cbe3d2c9"
  },
  "kernelspec": {
   "display_name": "Python 3.10.4 64-bit",
   "language": "python",
   "name": "python3"
  },
  "language_info": {
   "codemirror_mode": {
    "name": "ipython",
    "version": 3
   },
   "file_extension": ".py",
   "mimetype": "text/x-python",
   "name": "python",
   "nbconvert_exporter": "python",
   "pygments_lexer": "ipython3",
   "version": "3.10.4"
  },
  "orig_nbformat": 4
 },
 "nbformat": 4,
 "nbformat_minor": 2
}
